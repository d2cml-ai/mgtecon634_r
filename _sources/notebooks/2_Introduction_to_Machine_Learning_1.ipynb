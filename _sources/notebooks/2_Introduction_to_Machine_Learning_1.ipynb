{
 "cells": [
  {
   "cell_type": "code",
   "execution_count": 1,
   "id": "1a401f0d",
   "metadata": {},
   "outputs": [],
   "source": [
    "# Deleting all current variables\n",
    "rm(list=ls())\n",
    "\n",
    "# Ensuring consistent random values in the bookdown version (this can be ignored).\n",
    "set.seed(2, kind = \"Mersenne-Twister\", normal.kind = \"Inversion\", sample.kind = \"Rejection\")"
   ]
  },
  {
   "cell_type": "markdown",
   "id": "fd9ddbe2",
   "metadata": {},
   "source": [
    "# Introduction to Machine Learning \n",
    "\n",
    "RMD source: [link](https://docs.google.com/uc?export=download&id=110N1b5MYNXcIFZqWPqLbpqmgIkoMFqaF)\n",
    "\n",
    "In this chapter, we’ll briefly review machine learning concepts that will be relevant later. We’ll focus in particular on the problem of **prediction**, that is, to model some output variable as a function of observed input covariates."
   ]
  },
  {
   "cell_type": "code",
   "execution_count": 2,
   "id": "75650b78",
   "metadata": {},
   "outputs": [
    {
     "name": "stderr",
     "output_type": "stream",
     "text": [
      "Loading required package: Matrix\n",
      "\n",
      "Loaded glmnet 4.1-4\n",
      "\n",
      "Loading required package: zoo\n",
      "\n",
      "\n",
      "Attaching package: 'zoo'\n",
      "\n",
      "\n",
      "The following objects are masked from 'package:base':\n",
      "\n",
      "    as.Date, as.Date.numeric\n",
      "\n",
      "\n"
     ]
    }
   ],
   "source": [
    "# loading relevant packages\n",
    "# if you need to install a new package, \n",
    "# use e.g., install.packages(\"grf\")\n",
    "library(grf)\n",
    "library(rpart)\n",
    "library(glmnet)\n",
    "library(splines)\n",
    "library(lmtest)\n",
    "library(MASS)\n",
    "library(sandwich)\n",
    "library(ggplot2)\n",
    "library(reshape2)"
   ]
  },
  {
   "cell_type": "markdown",
   "id": "cf872695",
   "metadata": {},
   "source": [
    "In this section, we will use simulated data. In the next section we'll load a real dataset."
   ]
  },
  {
   "cell_type": "code",
   "execution_count": 3,
   "id": "812ef2a3",
   "metadata": {},
   "outputs": [],
   "source": [
    "# Simulating data\n",
    "\n",
    "# Sample size\n",
    "n <- 500\n",
    "\n",
    "# Generating covariate X ~ Unif[-4, 4]\n",
    "x <- runif(n, -4, 4)\n",
    "\n",
    "# Generate outcome\n",
    "# if x < 0:\n",
    "#   y = cos(2*x) + N(0, 1)\n",
    "# else:\n",
    "#   y = 1-sin(x) + N(0, 1)\n",
    "mu <- ifelse(x < 0, cos(2*x), 1-sin(x)) \n",
    "y <- mu + 1 * rnorm(n)\n",
    "\n",
    "# collecting observations in a data.frame object\n",
    "data <- data.frame(x=x, y=y)\n",
    "\n",
    "# outcome variable name\n",
    "outcome <- \"y\"\n",
    "\n",
    "# covariate names\n",
    "covariates <- c(\"x\")"
   ]
  },
  {
   "cell_type": "markdown",
   "id": "43cf62d3",
   "metadata": {},
   "source": [
    "The following shows how the two variables `x` and `y` relate. Note that the relationship is nonlinear."
   ]
  },
  {
   "cell_type": "code",
   "execution_count": 4,
   "id": "e1c354b7",
   "metadata": {},
   "outputs": [
    {
     "data": {
      "image/png": "[encoded data removed]",
      "text/plain": [
       "plot without title"
      ]
     },
     "metadata": {
      "image/png": {
       "height": 420,
       "width": 420
      }
     },
     "output_type": "display_data"
    }
   ],
   "source": [
    "plot(x, y, col=\"black\", ylim=c(-4, 4), pch=21, bg=\"red\", ylab = \"Outcome y\")\n",
    "lines(x[order(x)], mu[order(x)], col=\"black\", lwd=3, type=\"l\")\n",
    "legend(\"bottomright\", legend=c(\"Ground truth E[Y|X=x]\", \"Data\"), cex=.8, lty=c(1, NA), col=\"black\",  pch=c(NA, 21), pt.bg=c(NA, \"red\"))"
   ]
  },
  {
   "cell_type": "markdown",
   "id": "42743951",
   "metadata": {},
   "source": [
    "Note: If you’d like to run the code below on a different dataset, you can replace the dataset above with another `data.frame` of your choice, and redefine the key variable identifiers (`outcome`, `covariates`) accordingly. Although we try to make the code as general as possible, you may also need to make a few minor changes to the code below; read the comments carefully."
   ]
  },
  {
   "cell_type": "markdown",
   "id": "0429282a",
   "metadata": {},
   "source": [
    "## Key concepts"
   ]
  },
  {
   "cell_type": "markdown",
   "id": "84d5eece",
   "metadata": {},
   "source": [
    "The prediction problem is to accurately guess the value of some output variable $Y_i$ from input variables $X_i$. For example, we might want to predict “house prices given house characteristics such as the number of rooms, age of the building, and so on. The relationship between input and output is modeled in very general terms by some function\n",
    "\n",
    "\\begin{equation}\\label{eq:true-model} \\tag{2.1}\n",
    "  Y_i = f(X_i) + \\epsilon_i\n",
    "\\end{equation}\n",
    "\n",
    "where $\\epsilon_i$ represents all that is not captured by information obtained from $X_i$ via the mapping $f$. We say that error $\\epsilon_i$ is irreducible.\n",
    "\n",
    "We highlight that \\eqref{eq:true-model} is **not modeling a causal relationship** between inputs and outputs. For an extreme example, consider taking $Y_i$ to be “distance from the equator” and $X_i$ to be “average temperature.” We can still think of the problem of guessing (“predicting”) “distance from the equator” given some information about “average temperature,” even though one would expect the former to cause the latter.\n",
    "\n",
    "In general, we can’t know the “ground truth”  $f$, so we will approximate it from data. Given $n$ data points $\\{(X_1, Y_1), \\cdots, (X_n, Y_n)\\}$, our goal is to obtain an estimated model  $\\hat{f}$ such that our predictions $\\widehat{Y}_i := \\hat{f}(X_i)$ are “close” to the true outcome values $Y_i$ given some criterion. To formalize this, we’ll follow these three steps:\n",
    "\n",
    "+ **Modeling:** Decide on some suitable class of functions that our estimated model may belong to. In machine learning applications the class of functions can be very large and complex (e.g., deep decision trees, forests, high-dimensional linear models, etc). Also, we must decide on a loss function that serves as our criterion to evaluate the quality of our predictions (e.g., mean-squared error).\n",
    "\n",
    "+ **Fitting:** Find the estimate $\\hat{f}$ that optimizes the loss function chosen in the previous step (e.g., the tree that minimizes the squared deviation between $\\hat{f}(X_i)$ and $Y_i$ in our data).\n",
    "\n",
    "+ **Evaluation:** Evaluate our fitted model $\\hat{f}$. That is, if we were given a new, yet unseen, input and output pair $(X',Y')$, we'd like to know if $Y' \\approx \\hat{f}(X_i)$ by some metric.\n",
    "\n",
    "For concreteness, let’s work through an example. Let’s say that, given the data simulated above, we’d like to predict $Y_i$ from the first covariate  $X_{i1}$ only. Also, let’s say that our model class will be polynomials of degree $q$ in $X_{i1}$, and we’ll evaluate fit based on mean squared error. That is, $\\hat{f}(X_{i1}) = \\hat{b}_0 + X_{i1}\\hat{b}_1 + \\cdots + X_{i1}^q \\hat{b}_q$, where the coefficients are obtained by solving the following problem:\n",
    "\\begin{equation}\n",
    "  \\hat{b} = \\arg\\min_b \\sum_{i=1}^m\n",
    "    \\left(Y_i - b_0 - X_{i1}b_1 - \\cdots - X_{iq}^q b_q \\right)^2\n",
    "\\end{equation}\n",
    "An important question is what is $q$, the degree of the polynomial. It controls the complexity of the model. One may imagine that more complex models are better, but that is not always true, because a very flexible model may try to simply interpolate over the data at hand, but fail to generalize well for new data points. We call this **overfitting**. The main feature of overfitting is **high variance**, in the sense that, if we were given a different data set of the same size, we'd likely get a very different model.\n",
    "\n",
    "To illustrate, in the figure below we let the degree be  $q=10$ but use only the first few data points. The fitted model is shown in green, and the original data points are in red."
   ]
  },
  {
   "cell_type": "code",
   "execution_count": 5,
   "id": "9773bedb",
   "metadata": {},
   "outputs": [
    {
     "data": {
      "image/png": "[encoded data removed]",
      "text/plain": [
       "Plot with title \"Example of overfitting\""
      ]
     },
     "metadata": {
      "image/png": {
       "height": 420,
       "width": 420
      }
     },
     "output_type": "display_data"
    }
   ],
   "source": [
    "# Note: this code assumes that the first covariate is continuous.\n",
    "# Fitting a flexible model on very little data\n",
    "\n",
    "# selecting only a few data points\n",
    "subset <- 1:30\n",
    "\n",
    "# formula for a high-dimensional polynomial regression\n",
    "# y ~ 1 + x1 + x1^2 + x1^3 + .... + x1^q\n",
    "fmla <- formula(paste0(outcome, \"~ poly(\", covariates[1], \", 10)\"))\n",
    "\n",
    "# linear regression using only a few observations\n",
    "ols <- lm(fmla, data = data, subset=subset)\n",
    "\n",
    "# compute a grid of x1 values we'll use for prediction\n",
    "x <- data[,covariates[1]]\n",
    "x.grid <- seq(min(x), max(x), length.out=1000)\n",
    "new.data <- data.frame(x.grid)\n",
    "colnames(new.data) <- covariates[1]\n",
    "\n",
    "# predict\n",
    "y.hat <- predict(ols, newdata = new.data)\n",
    "\n",
    "# plotting observations (in red) and model predictions (in green)\n",
    "plot(data[subset, covariates[1]], data[subset, outcome], pch=21, bg=\"red\", xlab=covariates[1], ylab=\"Outcome y\", main=\"Example of overfitting\")\n",
    "lines(x.grid, y.hat, col=\"green\", lwd=2, ylim=c(-3, 3))\n",
    "legend(\"bottomright\", legend=c(\"Estimate\", \"Data\"), col = c(\"green\", \"black\"),pch = c(NA, 21), pt.bg = c(NA, \"red\"), lty = c(1, NA), lwd = c(2, NA),cex = .8)"
   ]
  },
  {
   "cell_type": "markdown",
   "id": "3b57cd67",
   "metadata": {},
   "source": [
    "On the other hand, when $q$ is too small relative to our data, we permit only very simple models and may suffer from misspecification bias. We call this **underfitting**. The main feature of underfitting is **high bias** -- the selected model just isn't complex enough to accurately capture the relationship between input and output variables.\n",
    "\n",
    "To illustrate underfitting, in the figure below we set $q=1$ (a linear fit)."
   ]
  },
  {
   "cell_type": "code",
   "execution_count": 6,
   "id": "54789f5e",
   "metadata": {},
   "outputs": [
    {
     "data": {
      "image/png": "[encoded data removed]",
      "text/plain": [
       "Plot with title \"Example of underfitting\""
      ]
     },
     "metadata": {
      "image/png": {
       "height": 420,
       "width": 420
      }
     },
     "output_type": "display_data"
    }
   ],
   "source": [
    "# Note: this code assumes that the first covariate is continuous\n",
    "# Fitting a very simply model on very little data\n",
    "\n",
    "# only a few data points\n",
    "subset <- 1:25\n",
    "\n",
    "# formula for a linear regression (without taking polynomials of x1)\n",
    "# y ~ 1 + x1\n",
    "fmla <- formula(paste0(outcome, \"~\", covariates[1]))\n",
    "\n",
    "# linear regression\n",
    "ols <- lm(fmla, data[subset,])\n",
    "\n",
    "# compute a grid of x1 values we'll use for prediction\n",
    "x <- data[,covariates[1]]\n",
    "x.grid <- seq(min(x), max(x), length.out=1000)\n",
    "new.data <- data.frame(x.grid)\n",
    "colnames(new.data) <- covariates[1]\n",
    "\n",
    "# predict\n",
    "y.hat <- predict(ols, newdata = new.data)\n",
    "\n",
    "# plotting observations (in red) and model predictions (in green)\n",
    "plot(data[subset, covariates[1]], data[subset, outcome], pch=21, bg=\"red\", xlab=covariates[1], ylab=\"Outcome y\", main=\"Example of underfitting\")\n",
    "lines(x.grid, y.hat, col=\"green\", lwd=2)\n",
    "legend(\"bottomright\", legend=c(\"Estimate\", \"Data\"), col = c(\"green\", \"black\"),pch = c(NA, 21), pt.bg = c(NA, \"red\"), lty = c(1, NA), lwd = c(2, NA),cex = .8)"
   ]
  },
  {
   "cell_type": "markdown",
   "id": "f73243f1",
   "metadata": {},
   "source": [
    "This tension is called the **bias-variance trade-off**: simpler models underfit and have more bias, more complex models overfit and have more variance.\n",
    "\n",
    "One data-driven way of deciding an appropriate level of complexity is to divide the available data into a training set (where the model is fit) and the validation set (where the model is evaluated). The next snippet of code uses the first half of the data to fit a polynomial of order $q$, and then evaluates that polynomial on the second half. The training MSE estimate decreases monotonically with the polynomial degree, because the model is better able to fit on the training data; the test MSE estimate starts increasing after a while reflecting that the model no longer generalizes well."
   ]
  },
  {
   "cell_type": "code",
   "execution_count": 7,
   "id": "d3d4f201",
   "metadata": {},
   "outputs": [
    {
     "data": {
      "image/png": "[encoded data removed]",
      "text/plain": [
       "Plot with title \"MSE estimates (train-test split)\""
      ]
     },
     "metadata": {
      "image/png": {
       "height": 420,
       "width": 420
      }
     },
     "output_type": "display_data"
    }
   ],
   "source": [
    "# polynomial degrees that we'll loop over\n",
    "poly.degree <- seq(3, 20)\n",
    "\n",
    "# training data observations: 1 to (n/2)\n",
    "train <- 1:(n/2)\n",
    "\n",
    "# looping over each polynomial degree\n",
    "mse.estimates <- lapply(poly.degree, function(q) {\n",
    "\n",
    "  # formula y ~ 1 + x1 + x1^2 + ... + x1^q\n",
    "  fmla <- formula(paste0(outcome, \"~ poly(\", covariates[1], \",\", q,\")\"))\n",
    "\n",
    "  # linear regression using the formula above\n",
    "  # note we're fitting only on the training data observations\n",
    "  ols <- lm(fmla, data=data[train,])\n",
    "\n",
    "  # predicting on the training subset\n",
    "  # (no need to pass a dataframe)\n",
    "  y.hat.train <- predict(ols)\n",
    "  y.train <- data[train, outcome]\n",
    "  \n",
    "  # predicting on the validation subset\n",
    "  # (the minus sign in \"-train\" excludes observations in the training data)\n",
    "  y.hat.test <- predict(ols, newdata=data[-train,])\n",
    "  y.test <- data[-train, outcome]\n",
    "  \n",
    "  # compute the mse estimate on the validation subset and output it\n",
    "  data.frame(\n",
    "    mse.train=mean((y.hat.train - y.train)^2),\n",
    "    mse.test=mean((y.hat.test - y.test)^2))\n",
    "  })\n",
    "mse.estimates <- do.call(rbind, mse.estimates)\n",
    "\n",
    "matplot(poly.degree, mse.estimates, type=\"l\",  main=\"MSE estimates (train-test split)\", ylab=\"MSE estimate\", xlab=\"Polynomial degree\")\n",
    "text(poly.degree[2], .9*max(mse.estimates), pos=4, \"<-----\\nHigh bias\\nLow variance\") \n",
    "text(max(poly.degree), .9*max(mse.estimates), pos=2, \"----->\\nLow bias\\nHigh variance\") \n",
    "legend(\"top\", legend=c(\"Training\", \"Validation\"), bty=\"n\", lty=1:2, col=1:2, cex=.7)"
   ]
  },
  {
   "cell_type": "markdown",
   "id": "34eb7080",
   "metadata": {},
   "source": [
    "\n",
    "To make better use of the data we will often divide the data into $K$ subsets, or _folds_. Then one fits $K$ models, each using  $K-1$ folds and then evaluation the fitted model on the remaining fold. This is called **k-fold cross-validation**."
   ]
  },
  {
   "cell_type": "code",
   "execution_count": 8,
   "id": "333e91eb",
   "metadata": {},
   "outputs": [
    {
     "data": {
      "image/png": "[encoded data removed]",
      "text/plain": [
       "Plot with title \"MSE estimates (K-fold cross-validation)\""
      ]
     },
     "metadata": {
      "image/png": {
       "height": 420,
       "width": 420
      }
     },
     "output_type": "display_data"
    }
   ],
   "source": [
    "# number of folds (K)\n",
    "n.folds <- 5\n",
    "\n",
    "# polynomial degrees that we'll loop over to select\n",
    "poly.degree <- seq(4, 20)\n",
    "\n",
    "# list of indices that will be left out at each step\n",
    "indices <- split(seq(n), sort(seq(n) %% n.folds))\n",
    "\n",
    "# looping over polynomial degrees (q)\n",
    "mse.estimates <- sapply(poly.degree, function(q) {\n",
    "\n",
    "    # formula y ~ 1 + x1 + x1^2 + ... + x1^q\n",
    "    fmla <- formula(paste0(outcome, \"~ poly(\", covariates[1], \",\", q,\")\"))\n",
    "\n",
    "    # loop over folds get cross-validated predictions\n",
    "    y.hat <- lapply(indices, function(fold.idx) {\n",
    "\n",
    "        # fit on K-1 folds, leaving out observations in fold.idx\n",
    "        # (the minus sign in -fold.idx excludes those observations)\n",
    "        ols <- lm(fmla, data=data[-fold.idx,])\n",
    "\n",
    "        # predict on left-out kth fold\n",
    "        predict(ols, newdata=data[fold.idx,])\n",
    "    })\n",
    "    # concatenate all the cross-validated predictions\n",
    "    y.hat <- unname(unlist(y.hat))\n",
    "\n",
    "    # cross-validated mse estimate\n",
    "    mean((y.hat - data[, outcome])^2)\n",
    "})\n",
    "\n",
    "# plot\n",
    "plot(poly.degree, mse.estimates, main=\"MSE estimates (K-fold cross-validation)\", ylab=\"MSE estimate\", xlab=\"Polynomial degree\", type=\"l\", lty=2, col=2)\n",
    "legend(\"top\", legend=c(\"Cross-validated MSE\"), bty=\"n\", lty=2, col=2, cex=.7)"
   ]
  },
  {
   "cell_type": "markdown",
   "id": "0c7d8581",
   "metadata": {},
   "source": [
    "This is one of the benefits of using machine learning-based models: more data implies more flexible modeling, and therefore potentially better predictive power -- provided that we carefully avoid overfitting.\n",
    "\n",
    "The example above based on polynomial regression was used mostly for illustration. In practice, there are often better-performing algorithms. We’ll see some of them next."
   ]
  },
  {
   "cell_type": "markdown",
   "id": "8c11cf7f",
   "metadata": {},
   "source": [
    "## Common machine learning algorithms"
   ]
  },
  {
   "cell_type": "markdown",
   "id": "955a84f7",
   "metadata": {},
   "source": [
    "A final remark is that, in machine learning applications, the complexity of the model often is allowed to increase with the available data. In the example above, even though we weren’t very successful when fitting a high-dimensional model on very little data, if we had much more data perhaps such a model would be appropriate. The next figure again fits a high order polynomial model, but this time on many data points. Note how, at least in data-rich regions, the model is much better behaved, and tracks the average outcome reasonably well without trying to interpolate wildly of the data points. "
   ]
  },
  {
   "cell_type": "code",
   "execution_count": 9,
   "id": "8a6185a3",
   "metadata": {},
   "outputs": [
    {
     "data": {
      "image/png": "[encoded data removed]",
      "text/plain": [
       "plot without title"
      ]
     },
     "metadata": {
      "image/png": {
       "height": 420,
       "width": 420
      }
     },
     "output_type": "display_data"
    }
   ],
   "source": [
    "# Note this code assumes that the first covariate is continuous\n",
    "# Fitting a flexible model on a lot of data\n",
    "\n",
    "# now using much more data\n",
    "subset <- 1:n\n",
    "\n",
    "# formula for high order polynomial regression\n",
    "# y ~ 1 + x1 + x1^2 + ... + x1^q\n",
    "fmla <- formula(paste0(outcome, \"~ poly(\", covariates[1], \", 15)\"))\n",
    "\n",
    "# linear regression\n",
    "ols <- lm(fmla, data, subset=subset)\n",
    "\n",
    "# compute a grid of x1 values we'll use for prediction\n",
    "x <- data[,covariates[1]]\n",
    "x.grid <- seq(min(x), max(x), length.out=1000)\n",
    "new.data <- data.frame(x.grid)\n",
    "colnames(new.data) <- covariates[1]\n",
    "\n",
    "# predict\n",
    "y.hat <- predict(ols, newdata = new.data)\n",
    "\n",
    "# plotting observations (in red) and model predictions (in green)\n",
    "plot(data[subset, covariates[1]], data[subset, outcome], pch=21, bg=\"red\", xlab=covariates[1], ylab=\"Outcome\")\n",
    "lines(x[order(x)], mu[order(x)], lwd=2, col=\"black\")\n",
    "lines(x.grid, y.hat, col=\"green\", lwd=2)\n",
    "legend(\"bottomright\", lwd=2, lty=c(1, 1), col=c(\"black\", \"green\"), legend=c(\"Ground truth\", \"Estimate\"))"
   ]
  },
  {
   "cell_type": "markdown",
   "id": "ec1f3749",
   "metadata": {},
   "source": [
    "Next, we’ll introduce three machine learning algorithms: (regularized) linear models, trees, and forests. Although this isn't an exhaustive list, these algorithms are common enough that every machine learning practitioner should know about them. They also have convenient `R` packages that allow for easy coding.\n",
    "\n",
    "In this tutorial, we'll focus heavily on how to **interpret** the output of machine learning models -- or, at least, how not to _mis_-interpret it. However, in this chapter we won’t be making any causal claims about the relationships between variables yet. But please hang tight, as estimating causal effects will be one of the main topics presented in the next chapters.\n",
    "\n",
    "For the remainder of the chapter we will use a real dataset. Each row in this data set represents the characteristics of a owner-occupied housing unit. Our goal is to predict the (log) price of the housing unit (`LOGVALUE`, our outcome variable) from features such as the size of the lot (`LOT`) and square feet area (`UNITSF`), number of bedrooms (`BEDRMS`) and bathrooms (`BATHS`), year in which it was built (`BUILT`) etc. This dataset comes from the American Housing Survey and was used in [Mullainathan and Spiess (2017, JEP)](https://www.aeaweb.org/articles?id=10.1257/jep.31.2.87). In addition, we will append to this data columns that are pure noise. Ideally, our fitted model should not take them into acccount."
   ]
  },
  {
   "cell_type": "code",
   "execution_count": 10,
   "id": "8844fe76",
   "metadata": {},
   "outputs": [],
   "source": [
    "# load dataset\n",
    "data <- read.csv(\"https://docs.google.com/uc?id=1qHr-6nN7pCbU8JUtbRDtMzUKqS9ZlZcR&export=download\")\n",
    "\n",
    "# outcome variable name\n",
    "outcome <- \"LOGVALUE\"\n",
    "\n",
    "# covariates\n",
    "true.covariates <- c('LOT','UNITSF','BUILT','BATHS','BEDRMS','DINING','METRO','CRACKS','REGION','METRO3','PHONE','KITCHEN','MOBILTYP','WINTEROVEN','WINTERKESP','WINTERELSP','WINTERWOOD','WINTERNONE','NEWC','DISH','WASH','DRY','NUNIT2','BURNER','COOK','OVEN','REFR','DENS','FAMRM','HALFB','KITCH','LIVING','OTHFN','RECRM','CLIMB','ELEV','DIRAC','PORCH','AIRSYS','WELL','WELDUS','STEAM','OARSYS')\n",
    "p.true <- length(true.covariates)\n",
    "\n",
    "# noise covariates added for didactic reasons\n",
    "p.noise <- 20\n",
    "noise.covariates <- paste0('noise', seq(p.noise))\n",
    "covariates <- c(true.covariates, noise.covariates)\n",
    "X.noise <- matrix(rnorm(n=nrow(data)*p.noise), nrow(data), p.noise)\n",
    "colnames(X.noise) <- noise.covariates\n",
    "data <- cbind(data, X.noise)\n",
    "\n",
    "# sample size\n",
    "n <- nrow(data)\n",
    "\n",
    "# total number of covariates\n",
    "p <- length(covariates)"
   ]
  },
  {
   "cell_type": "markdown",
   "id": "b11827cd",
   "metadata": {},
   "source": [
    "\n",
    "Here's the correlation between the first few covariates. Note how, most variables are positively correlated, which is expected since houses with more bedrooms will usually also have more bathrooms, larger area, etc."
   ]
  },
  {
   "cell_type": "code",
   "execution_count": 11,
   "id": "781cf199",
   "metadata": {},
   "outputs": [
    {
     "data": {
      "text/html": [
       "<table class=\"dataframe\">\n",
       "<caption>A matrix: 8 × 8 of type dbl</caption>\n",
       "<thead>\n",
       "\t<tr><th></th><th scope=col>LOT</th><th scope=col>UNITSF</th><th scope=col>BUILT</th><th scope=col>BATHS</th><th scope=col>BEDRMS</th><th scope=col>DINING</th><th scope=col>METRO</th><th scope=col>CRACKS</th></tr>\n",
       "</thead>\n",
       "<tbody>\n",
       "\t<tr><th scope=row>LOT</th><td> 1.000</td><td>0.065</td><td>0.045</td><td>0.057</td><td>0.010</td><td>-0.015</td><td>0.136</td><td>0.017</td></tr>\n",
       "\t<tr><th scope=row>UNITSF</th><td> 0.065</td><td>1.000</td><td>0.143</td><td>0.429</td><td>0.361</td><td> 0.214</td><td>0.057</td><td>0.034</td></tr>\n",
       "\t<tr><th scope=row>BUILT</th><td> 0.045</td><td>0.143</td><td>1.000</td><td>0.435</td><td>0.215</td><td> 0.037</td><td>0.324</td><td>0.092</td></tr>\n",
       "\t<tr><th scope=row>BATHS</th><td> 0.057</td><td>0.429</td><td>0.435</td><td>1.000</td><td>0.540</td><td> 0.259</td><td>0.190</td><td>0.063</td></tr>\n",
       "\t<tr><th scope=row>BEDRMS</th><td> 0.010</td><td>0.361</td><td>0.215</td><td>0.540</td><td>1.000</td><td> 0.282</td><td>0.121</td><td>0.027</td></tr>\n",
       "\t<tr><th scope=row>DINING</th><td>-0.015</td><td>0.214</td><td>0.037</td><td>0.259</td><td>0.282</td><td> 1.000</td><td>0.022</td><td>0.021</td></tr>\n",
       "\t<tr><th scope=row>METRO</th><td> 0.136</td><td>0.057</td><td>0.324</td><td>0.190</td><td>0.121</td><td> 0.022</td><td>1.000</td><td>0.058</td></tr>\n",
       "\t<tr><th scope=row>CRACKS</th><td> 0.017</td><td>0.034</td><td>0.092</td><td>0.063</td><td>0.027</td><td> 0.021</td><td>0.058</td><td>1.000</td></tr>\n",
       "</tbody>\n",
       "</table>\n"
      ],
      "text/latex": [
       "A matrix: 8 × 8 of type dbl\n",
       "\\begin{tabular}{r|llllllll}\n",
       "  & LOT & UNITSF & BUILT & BATHS & BEDRMS & DINING & METRO & CRACKS\\\\\n",
       "\\hline\n",
       "\tLOT &  1.000 & 0.065 & 0.045 & 0.057 & 0.010 & -0.015 & 0.136 & 0.017\\\\\n",
       "\tUNITSF &  0.065 & 1.000 & 0.143 & 0.429 & 0.361 &  0.214 & 0.057 & 0.034\\\\\n",
       "\tBUILT &  0.045 & 0.143 & 1.000 & 0.435 & 0.215 &  0.037 & 0.324 & 0.092\\\\\n",
       "\tBATHS &  0.057 & 0.429 & 0.435 & 1.000 & 0.540 &  0.259 & 0.190 & 0.063\\\\\n",
       "\tBEDRMS &  0.010 & 0.361 & 0.215 & 0.540 & 1.000 &  0.282 & 0.121 & 0.027\\\\\n",
       "\tDINING & -0.015 & 0.214 & 0.037 & 0.259 & 0.282 &  1.000 & 0.022 & 0.021\\\\\n",
       "\tMETRO &  0.136 & 0.057 & 0.324 & 0.190 & 0.121 &  0.022 & 1.000 & 0.058\\\\\n",
       "\tCRACKS &  0.017 & 0.034 & 0.092 & 0.063 & 0.027 &  0.021 & 0.058 & 1.000\\\\\n",
       "\\end{tabular}\n"
      ],
      "text/markdown": [
       "\n",
       "A matrix: 8 × 8 of type dbl\n",
       "\n",
       "| <!--/--> | LOT | UNITSF | BUILT | BATHS | BEDRMS | DINING | METRO | CRACKS |\n",
       "|---|---|---|---|---|---|---|---|---|\n",
       "| LOT |  1.000 | 0.065 | 0.045 | 0.057 | 0.010 | -0.015 | 0.136 | 0.017 |\n",
       "| UNITSF |  0.065 | 1.000 | 0.143 | 0.429 | 0.361 |  0.214 | 0.057 | 0.034 |\n",
       "| BUILT |  0.045 | 0.143 | 1.000 | 0.435 | 0.215 |  0.037 | 0.324 | 0.092 |\n",
       "| BATHS |  0.057 | 0.429 | 0.435 | 1.000 | 0.540 |  0.259 | 0.190 | 0.063 |\n",
       "| BEDRMS |  0.010 | 0.361 | 0.215 | 0.540 | 1.000 |  0.282 | 0.121 | 0.027 |\n",
       "| DINING | -0.015 | 0.214 | 0.037 | 0.259 | 0.282 |  1.000 | 0.022 | 0.021 |\n",
       "| METRO |  0.136 | 0.057 | 0.324 | 0.190 | 0.121 |  0.022 | 1.000 | 0.058 |\n",
       "| CRACKS |  0.017 | 0.034 | 0.092 | 0.063 | 0.027 |  0.021 | 0.058 | 1.000 |\n",
       "\n"
      ],
      "text/plain": [
       "       LOT    UNITSF BUILT BATHS BEDRMS DINING METRO CRACKS\n",
       "LOT     1.000 0.065  0.045 0.057 0.010  -0.015 0.136 0.017 \n",
       "UNITSF  0.065 1.000  0.143 0.429 0.361   0.214 0.057 0.034 \n",
       "BUILT   0.045 0.143  1.000 0.435 0.215   0.037 0.324 0.092 \n",
       "BATHS   0.057 0.429  0.435 1.000 0.540   0.259 0.190 0.063 \n",
       "BEDRMS  0.010 0.361  0.215 0.540 1.000   0.282 0.121 0.027 \n",
       "DINING -0.015 0.214  0.037 0.259 0.282   1.000 0.022 0.021 \n",
       "METRO   0.136 0.057  0.324 0.190 0.121   0.022 1.000 0.058 \n",
       "CRACKS  0.017 0.034  0.092 0.063 0.027   0.021 0.058 1.000 "
      ]
     },
     "metadata": {},
     "output_type": "display_data"
    }
   ],
   "source": [
    "round(cor(data[,covariates[1:8]]), 3)"
   ]
  },
  {
   "cell_type": "markdown",
   "id": "27bc78b1",
   "metadata": {},
   "source": [
    "###  Generalized linear models"
   ]
  },
  {
   "cell_type": "markdown",
   "id": "1be53421",
   "metadata": {},
   "source": [
    "This class of models extends common methods such as linear and logistic regression by adding a penalty to the magnitude of the coefficients. **Lasso** penalizes the absolute value of slope coefficients. For regression problems, it becomes\n",
    "\n",
    "\\begin{equation}\\label{eq:lasso}\\tag{2.2}\n",
    "  \\hat{b}_{Lasso} = \\arg\\min_b \\sum_{i=1}^m\n",
    "    \\left( Y_i - b_0 - X_{i1}b_1 - \\cdots - X_{ip}b_p \\right)^2\n",
    "    - \\lambda \\sum_{j=1}^p |b_j|\n",
    "\\end{equation}\n",
    "\n",
    "\n",
    "Similarly, in a regression problem **Ridge** penalizes the sum of squares of the slope coefficients,\n",
    "\\begin{equation}\\label{eq:ridge}\\tag{2.3}\n",
    "  \\hat{b}_{Ridge} = \\arg\\min_b \\sum_{i=1}^m\n",
    "    \\left( Y_i - b_0 - X_{i1}b_1 - \\cdots - X_{ip}b_p \\right)^2\n",
    "    - \\lambda \\sum_{j=1}^p b_j^2\n",
    "\\end{equation}\n",
    "\n",
    "Also, there exists the **Elastic Net** penalization which consists of a convex combination between the other two. In all cases, the scalar parameter\n",
    "$\\lambda$ controls the complexity of the model. For $\\lambda=0$, the problem reduces to the “usual” linear regression. As $\\lambda$ increases, we favor simpler models. As we’ll see below, the optimal parameter $\\lambda$ is selected via cross-validation.\n",
    "\n",
    "An important feature of Lasso-type penalization is that it promotes **sparsity** – that is, it forces many coefficients to be exactly zero. This is different from Ridge-type penalization, which forces coefficients to be small.\n",
    "\n",
    "Another interesting property of these models is that, even though they are called “linear” models, this should actually be understood as **linear in transformations** of the covariates. For example, we could use polynomials or splines (continuous piecewise polynomials) of the covariates and allow for much more flexible models.\n",
    "\n",
    "In fact, because of the penalization term, problems \\eqref{eq:lasso} and \\eqref{eq:ridge} remain well-defined and have a unique solution even in **high-dimensional** problems in which the number of coefficients $p$ is larger than the sample size $n$ – that is, our data is “fat” with more columns than rows. These situations can arise either naturally (e.g. genomics problems in which we have hundreds of thousands of gene expression information for a few individuals) or because we are including many transformations of a smaller set of covariates.\n",
    "\n",
    "Finally, although here we are focusing on regression problems, other generalized linear models such as logistic regression can also be similarly modified by adding a Lasso, Ridge, or Elastic Net-type penalty to similar consequences.\n"
   ]
  },
  {
   "cell_type": "code",
   "execution_count": 12,
   "id": "ec536084",
   "metadata": {},
   "outputs": [],
   "source": [
    "# A formula of type \"~ x1 + x2 + ...\" (right-hand side only) to\n",
    "# indicate how covariates should enter the model. If you'd like to add, e.g.,\n",
    "# third-order polynomials in x1, you could do so here by modifying the formula\n",
    "# to be something like  \"~ poly(x1, 3) + x2 + ...\"\n",
    "fmla <- formula(paste(\" ~ 0 + \", paste0(covariates, collapse=\" + \")))\n",
    "\n",
    "# Use this formula instead if you'd like to fit on piecewise polynomials\n",
    "# fmla <- formula(paste(\" ~ 0 + \", paste0(\"bs(\", covariates, \", df=5)\", collapse=\" + \")))\n",
    "\n",
    "# Function model.matrix selects the covariates according to the formula\n",
    "# above and expands the covariates accordingly. In addition, if any column\n",
    "# is a factor, then this creates dummies (one-hot encoding) as well.\n",
    "XX <- model.matrix(fmla, data)\n",
    "Y <- data[, outcome]\n",
    "\n",
    "# Fit a lasso model.\n",
    "# Note this automatically performs cross-validation.\n",
    "lasso <- cv.glmnet(\n",
    "  x=XX, y=Y,\n",
    "  family=\"gaussian\", # use 'binomial' for logistic regression\n",
    "  alpha=1. # use alpha=0 for ridge, or alpha in (0, 1) for elastic net\n",
    ")"
   ]
  },
  {
   "cell_type": "markdown",
   "id": "647fa344",
   "metadata": {},
   "source": [
    "The next figure plots the average estimated MSE for each lambda. The red dots are the averages across all folds, and the error bars are based on the variability of mse estimates across folds. The vertical dashed lines show the (log) lambda with smallest estimated MSE (left) and the one whose mse is at most one standard error from the first (right)."
   ]
  },
  {
   "cell_type": "code",
   "execution_count": 13,
   "id": "f2e2efc4",
   "metadata": {},
   "outputs": [
    {
     "data": {
      "image/png": "[encoded data removed]",
      "text/plain": [
       "plot without title"
      ]
     },
     "metadata": {
      "image/png": {
       "height": 420,
       "width": 420
      }
     },
     "output_type": "display_data"
    }
   ],
   "source": [
    "plot(lasso)"
   ]
  },
  {
   "cell_type": "markdown",
   "id": "edcda7e7",
   "metadata": {},
   "source": [
    "Here are the first few estimated coefficients at the $\\lambda$ value that minimizes cross-validated MSE. Note that many estimated coefficients them are exactly zero"
   ]
  },
  {
   "cell_type": "code",
   "execution_count": 14,
   "id": "0ecfa860",
   "metadata": {},
   "outputs": [
    {
     "data": {
      "text/html": [
       "<style>\n",
       ".dl-inline {width: auto; margin:0; padding: 0}\n",
       ".dl-inline>dt, .dl-inline>dd {float: none; width: auto; display: inline-block}\n",
       ".dl-inline>dt::after {content: \":\\0020\"; padding-right: .5ex}\n",
       ".dl-inline>dt:not(:first-of-type) {padding-left: .5ex}\n",
       "</style><dl class=dl-inline><dt>(Intercept)</dt><dd>11.8362661215466</dd><dt>LOT</dt><dd>3.3940000997719e-07</dd><dt>UNITSF</dt><dd>2.23040046294449e-05</dd><dt>BUILT</dt><dd>0.000141729831090269</dd><dt>BATHS</dt><dd>0.247754826465621</dd></dl>\n"
      ],
      "text/latex": [
       "\\begin{description*}\n",
       "\\item[(Intercept)] 11.8362661215466\n",
       "\\item[LOT] 3.3940000997719e-07\n",
       "\\item[UNITSF] 2.23040046294449e-05\n",
       "\\item[BUILT] 0.000141729831090269\n",
       "\\item[BATHS] 0.247754826465621\n",
       "\\end{description*}\n"
      ],
      "text/markdown": [
       "(Intercept)\n",
       ":   11.8362661215466LOT\n",
       ":   3.3940000997719e-07UNITSF\n",
       ":   2.23040046294449e-05BUILT\n",
       ":   0.000141729831090269BATHS\n",
       ":   0.247754826465621\n",
       "\n"
      ],
      "text/plain": [
       " (Intercept)          LOT       UNITSF        BUILT        BATHS \n",
       "1.183627e+01 3.394000e-07 2.230400e-05 1.417298e-04 2.477548e-01 "
      ]
     },
     "metadata": {},
     "output_type": "display_data"
    },
    {
     "name": "stdout",
     "output_type": "stream",
     "text": [
      "[1] \"Number of nonzero coefficients at optimal lambda: 49 out of 64\"\n"
     ]
    }
   ],
   "source": [
    "# Estimated coefficients at the lambda value that minimized cross-validated MSE\n",
    "coef(lasso, s = \"lambda.min\")[1:5,]  # showing only first coefficients\n",
    "print(paste(\"Number of nonzero coefficients at optimal lambda:\", lasso$nzero[which.min(lasso$cvm)], \"out of\", length(coef(lasso))))"
   ]
  },
  {
   "cell_type": "markdown",
   "id": "64130248",
   "metadata": {},
   "source": [
    "Predictions and estimated MSE for the selected model are retrieved as follows."
   ]
  },
  {
   "cell_type": "code",
   "execution_count": 15,
   "id": "5ce7466f",
   "metadata": {},
   "outputs": [
    {
     "name": "stdout",
     "output_type": "stream",
     "text": [
      "[1] \"glmnet MSE estimate (k-fold cross-validation): 0.605862665474721\"\n"
     ]
    }
   ],
   "source": [
    "# Retrieve predictions at best lambda regularization parameter\n",
    "y.hat <- predict(lasso, newx=XX, s=\"lambda.min\", type=\"response\")\n",
    "\n",
    "# Get k-fold cross validation\n",
    "mse.glmnet <- lasso$cvm[lasso$lambda == lasso$lambda.min]\n",
    "print(paste(\"glmnet MSE estimate (k-fold cross-validation):\", mse.glmnet))"
   ]
  },
  {
   "cell_type": "markdown",
   "id": "86b56670",
   "metadata": {},
   "source": [
    "The next command plots estimated coefficients as a function of the regularization parameter $\\lambda$."
   ]
  },
  {
   "cell_type": "code",
   "execution_count": 16,
   "id": "a5b8cc58",
   "metadata": {},
   "outputs": [
    {
     "data": {
      "image/png": "[encoded data removed]",
      "text/plain": [
       "plot without title"
      ]
     },
     "metadata": {
      "image/png": {
       "height": 420,
       "width": 420
      }
     },
     "output_type": "display_data"
    }
   ],
   "source": [
    "plot(lasso$glmnet.fit, xvar=\"lambda\")"
   ]
  },
  {
   "cell_type": "markdown",
   "id": "a0b482a5",
   "metadata": {},
   "source": [
    "It's tempting to try to interpret the coefficients obtained via Lasso. Unfortunately, that can be very difficult, because by dropping covariates Lasso introduces a form of **omitted variable bias** ([wikipedia](https://en.wikipedia.org/wiki/Omitted-variable_bias)). To understand this form of bias, consider the following toy example. We have two positively correlated independent variables, `x.1` and `x.2`, that are linearly related to the outcome `y`. Linear regression of `y` on `x1` and `x2` gives us the correct coefficients. However, if we _omit_ `x2` from the estimation model, the coefficient on `x1` increases. This is because `x1` is now \"picking up\" the effect of the variable that was left out. In other words, the effect of `x1` seems stronger because we aren't controlling for some other confounding variable. Note that the second model this still works for prediction, but we cannot interpret the coefficient as a measure of strength of the causal relationship between `x1` and `y`."
   ]
  },
  {
   "cell_type": "code",
   "execution_count": 17,
   "id": "13cab848",
   "metadata": {},
   "outputs": [
    {
     "name": "stdout",
     "output_type": "stream",
     "text": [
      "[1] \"Correct model\"\n"
     ]
    },
    {
     "data": {
      "text/plain": [
       "\n",
       "Call:\n",
       "lm(formula = y ~ x.1 + x.2, data = data.sim)\n",
       "\n",
       "Coefficients:\n",
       "(Intercept)          x.1          x.2  \n",
       "      1.004        2.002        2.995  \n"
      ]
     },
     "metadata": {},
     "output_type": "display_data"
    },
    {
     "name": "stdout",
     "output_type": "stream",
     "text": [
      "[1] \"Model with omitted variable bias\"\n"
     ]
    },
    {
     "data": {
      "text/plain": [
       "\n",
       "Call:\n",
       "lm(formula = y ~ x.1, data = data.sim)\n",
       "\n",
       "Coefficients:\n",
       "(Intercept)          x.1  \n",
       "      1.004        4.002  \n"
      ]
     },
     "metadata": {},
     "output_type": "display_data"
    }
   ],
   "source": [
    "# Generating some data \n",
    "# y = 1 + 2*x1 + 3*x2 + noise, where corr(x1, x2) = .5\n",
    "# note the sample size is very large -- this isn't solved by big data!\n",
    "x <- mvrnorm(100000, mu=c(0,0), Sigma=diag(c(.5,.5)) + 1)\n",
    "y <- 1 + 2*x[,1] + 3*x[,2] + rnorm(100000)\n",
    "data.sim <- data.frame(x=x, y=y)\n",
    "\n",
    "print(\"Correct model\")\n",
    "lm(y ~ x.1 + x.2, data.sim)\n",
    "\n",
    "print(\"Model with omitted variable bias\")\n",
    "lm(y ~ x.1, data.sim)"
   ]
  },
  {
   "cell_type": "markdown",
   "id": "2692db6a",
   "metadata": {},
   "source": [
    "The phenomenon above occurs in Lasso and in any other sparsity-promoting method when correlated covariates are present since, by forcing coefficients to be zero, Lasso is effectively dropping them from the model. And as we have seen, as a variable gets dropped, a different variable that is correlated with it can \"pick up\" its effect, which in turn can cause bias. Once $\\lambda$ grows sufficiently large, the penalization term overwhelms any benefit of having that variable in the model, so that variable finally decreases to zero too.\n",
    "\n",
    "One may instead consider using Lasso to select a subset of variables, and then regressing the outcome on the subset of selected variables via OLS (without any penalization). This method is often called **post-lasso**. Although it has desirable properties in terms of model fit (see e.g., [Belloni and Chernozhukov, 2013](https://arxiv.org/pdf/1001.0188.pdf)), this procedure does not solve the omitted variable issue we mentioned above.\n",
    "\n",
    "We illustrate this next. We observe the path of the estimated coefficient on the number of bathroooms (`BATHS`) as we increase $\\lambda$."
   ]
  },
  {
   "cell_type": "code",
   "execution_count": 18,
   "id": "c04b5aa0",
   "metadata": {},
   "outputs": [],
   "source": [
    "# prepare data\n",
    "fmla <- formula(paste0(outcome, \"~\", paste0(covariates, collapse=\"+\")))\n",
    "XX <- model.matrix(fmla, data)[,-1]  # [,-1] drops the intercept\n",
    "Y <- data[,outcome]\n",
    "\n",
    "# fit ols, lasso and ridge models\n",
    "ols <- lm(fmla, data)\n",
    "lasso <- cv.glmnet(x=XX, y=Y, alpha=1.)  # alpha = 1 for lasso\n",
    "ridge <- cv.glmnet(x=XX, y=Y, alpha=0.)  # alpha = 0 for ridge\n",
    "\n",
    "# retrieve ols, lasso and ridge coefficients\n",
    "lambda.grid <- c(0, sort(lasso$lambda))\n",
    "ols.coefs <- coef(ols)\n",
    "lasso.coefs <- as.matrix(coef(lasso, s=lambda.grid))\n",
    "ridge.coefs <- as.matrix(coef(ridge, s=lambda.grid))\n",
    "\n",
    "# loop over lasso coefficients and re-fit OLS to get post-lasso coefficients\n",
    "plasso.coefs <- apply(lasso.coefs, 2, function(beta) {\n",
    "\n",
    "    # which slopes are non-zero\n",
    "    non.zero <- which(beta[-1] != 0)  # [-1] excludes intercept\n",
    "\n",
    "    # if there are any non zero coefficients, estimate OLS\n",
    "    fmla <- formula(paste0(outcome, \"~\", paste0(c(\"1\", covariates[non.zero]), collapse=\"+\")))\n",
    "    beta <- rep(0, ncol(XX) + 1)\n",
    "\n",
    "    # populate post-lasso coefficients\n",
    "    beta[c(1, non.zero + 1)] <- coef(lm(fmla, data))\n",
    "\n",
    "    beta\n",
    "  })"
   ]
  },
  {
   "cell_type": "code",
   "execution_count": 19,
   "id": "afbf505f",
   "metadata": {},
   "outputs": [
    {
     "data": {
      "image/png": "[encoded data removed]",
      "text/plain": [
       "Plot with title \"Coefficient estimate on BATHS\""
      ]
     },
     "metadata": {
      "image/png": {
       "height": 420,
       "width": 420
      }
     },
     "output_type": "display_data"
    }
   ],
   "source": [
    "selected <- 'BATHS'\n",
    "k <- which(rownames(lasso.coefs) == selected) # index of coefficient to plot\n",
    "coefs <- cbind(postlasso=plasso.coefs[k,],  lasso=lasso.coefs[k,], ridge=ridge.coefs[k,], ols=ols.coefs[k])\n",
    "matplot(lambda.grid, coefs, col=1:4, type=\"b\", pch=1:4, lwd=2, main=paste(\"Coefficient estimate on\", selected))\n",
    "abline(h = 0, lty=\"dashed\", col=\"gray\")\n",
    "\n",
    "legend(\"bottomleft\",\n",
    "  legend = colnames(coefs),\n",
    "  bty=\"n\", col=1:4,  pch=1:4, inset=c(.05, .05), lwd=2)"
   ]
  },
  {
   "cell_type": "markdown",
   "id": "307b040a",
   "metadata": {},
   "source": [
    "The OLS coefficients are not penalized, so they remain constant. Ridge estimates decrease monotonically as $\\lambda$ grows. Also, for this dataset, Lasso estimates first increase and then decrease. Meanwhile, the post-lasso coefficient estimates seem to behave somewhat erratically with $lambda$. To understand this behavior, let's see what happens to the magnitude of other selected variables that are correlated with `BATHS`. "
   ]
  },
  {
   "cell_type": "code",
   "execution_count": 20,
   "id": "22556b9c",
   "metadata": {},
   "outputs": [
    {
     "data": {
      "image/png": "[encoded data removed]",
      "text/plain": [
       "plot without title"
      ]
     },
     "metadata": {
      "image/png": {
       "height": 420,
       "width": 420
      }
     },
     "output_type": "display_data"
    }
   ],
   "source": [
    "covs <- which(covariates %in% c('UNITSF', 'BEDRMS',  'DINING'))\n",
    "matplot(lambda.grid, t(lasso.coefs[covs+1,]), type=\"l\", lwd=2)\n",
    "legend(\"topright\", legend = covariates[covs], bty=\"n\", col=1:p,  lty=1:p, inset=c(.05, .05), lwd=2, cex=.6)"
   ]
  },
  {
   "cell_type": "markdown",
   "id": "5d0065f6",
   "metadata": {},
   "source": [
    "Note how the discrete jumps in magnitude for the `BATHS` coefficient in the first coincide with, for example, variables `DINING` and `BEDRMS` being exactly zero. As these variables got dropped from the model, the coefficient on `BATHS` increased to pick up their effect. \n",
    "\n",
    "Another problem with Lasso coefficients is their instability. When multiple variables are highly correlated we may spuriously drop several of them. To get a sense of the amount of variability, in the next snippet we fix $\\lambda$ and then look at the lasso coefficients estimated during cross-validation. We see that by simply removing one fold we can get a very different set of coefficients (nonzero coefficients are in black in the heatmap below). This is because there may be many choices of coefficients with similar predictive power, so the set of nonzero coefficients we end up with can be quite unstable."
   ]
  },
  {
   "cell_type": "code",
   "execution_count": 21,
   "id": "56628e4c",
   "metadata": {},
   "outputs": [
    {
     "data": {
      "image/png": "[encoded data removed]",
      "text/plain": [
       "Plot with title \"Non-zero coefficient estimates\""
      ]
     },
     "metadata": {
      "image/png": {
       "height": 420,
       "width": 420
      }
     },
     "output_type": "display_data"
    }
   ],
   "source": [
    "# Fixing lambda. This choice is not very important; the same occurs any intermediate lambda value.\n",
    "selected.lambda <- lasso$lambda.min\n",
    "n.folds <- 10\n",
    "foldid <- (seq(n) %% n.folds) + 1\n",
    "coefs <- sapply(seq(n.folds), function(k) {\n",
    "  lasso.fold <- glmnet(XX[foldid == k,], Y[foldid == k])\n",
    "  as.matrix(coef(lasso.fold, s=selected.lambda))\n",
    "})\n",
    "heatmap(1*(coefs != 0), Rowv = NA, Colv = NA, cexCol = 1, scale=\"none\", col=gray(c(1,0)), margins = c(3, 1), xlab=\"Fold\", labRow=c(\"Intercept\", covariates), main=\"Non-zero coefficient estimates\")"
   ]
  },
  {
   "cell_type": "markdown",
   "id": "8ca8ea13",
   "metadata": {},
   "source": [
    "As we have seen above, any interpretation needs to take into account the joint distribution of covariates. One possible heuristic is to consider **data-driven subgroups**. For example, we can analyze what differentiates observations whose predictions are high from those whose predictions are low. The following code estimates a flexible Lasso model with splines, ranks the observations into a few subgroups according to their predicted outcomes, and then estimates the average covariate value for each subgroup.  "
   ]
  },
  {
   "cell_type": "code",
   "execution_count": 22,
   "id": "8d8603b7",
   "metadata": {},
   "outputs": [
    {
     "data": {
      "text/html": [
       "<dl>\n",
       "\t<dt>$LOT</dt>\n",
       "\t\t<dd><table class=\"dataframe\">\n",
       "<caption>A matrix: 2 × 4 of type dbl</caption>\n",
       "<thead>\n",
       "\t<tr><th></th><th scope=col>ranking1</th><th scope=col>ranking2</th><th scope=col>ranking3</th><th scope=col>ranking4</th></tr>\n",
       "</thead>\n",
       "<tbody>\n",
       "\t<tr><th scope=row>Estimate</th><td>48263.573</td><td>44814.350</td><td>49271.020</td><td>49267.689</td></tr>\n",
       "\t<tr><th scope=row>Std. Error</th><td> 1432.223</td><td> 1298.571</td><td> 1486.012</td><td> 1461.595</td></tr>\n",
       "</tbody>\n",
       "</table>\n",
       "</dd>\n",
       "\t<dt>$UNITSF</dt>\n",
       "\t\t<dd><table class=\"dataframe\">\n",
       "<caption>A matrix: 2 × 4 of type dbl</caption>\n",
       "<thead>\n",
       "\t<tr><th></th><th scope=col>ranking1</th><th scope=col>ranking2</th><th scope=col>ranking3</th><th scope=col>ranking4</th></tr>\n",
       "</thead>\n",
       "<tbody>\n",
       "\t<tr><th scope=row>Estimate</th><td>2423.62996</td><td>2433.1772</td><td>2428.63689</td><td>2434.72284</td></tr>\n",
       "\t<tr><th scope=row>Std. Error</th><td>  25.19218</td><td>  24.9452</td><td>  24.55653</td><td>  24.25453</td></tr>\n",
       "</tbody>\n",
       "</table>\n",
       "</dd>\n",
       "</dl>\n"
      ],
      "text/latex": [
       "\\begin{description}\n",
       "\\item[\\$LOT] A matrix: 2 × 4 of type dbl\n",
       "\\begin{tabular}{r|llll}\n",
       "  & ranking1 & ranking2 & ranking3 & ranking4\\\\\n",
       "\\hline\n",
       "\tEstimate & 48263.573 & 44814.350 & 49271.020 & 49267.689\\\\\n",
       "\tStd. Error &  1432.223 &  1298.571 &  1486.012 &  1461.595\\\\\n",
       "\\end{tabular}\n",
       "\n",
       "\\item[\\$UNITSF] A matrix: 2 × 4 of type dbl\n",
       "\\begin{tabular}{r|llll}\n",
       "  & ranking1 & ranking2 & ranking3 & ranking4\\\\\n",
       "\\hline\n",
       "\tEstimate & 2423.62996 & 2433.1772 & 2428.63689 & 2434.72284\\\\\n",
       "\tStd. Error &   25.19218 &   24.9452 &   24.55653 &   24.25453\\\\\n",
       "\\end{tabular}\n",
       "\n",
       "\\end{description}\n"
      ],
      "text/markdown": [
       "$LOT\n",
       ":   \n",
       "A matrix: 2 × 4 of type dbl\n",
       "\n",
       "| <!--/--> | ranking1 | ranking2 | ranking3 | ranking4 |\n",
       "|---|---|---|---|---|\n",
       "| Estimate | 48263.573 | 44814.350 | 49271.020 | 49267.689 |\n",
       "| Std. Error |  1432.223 |  1298.571 |  1486.012 |  1461.595 |\n",
       "\n",
       "\n",
       "$UNITSF\n",
       ":   \n",
       "A matrix: 2 × 4 of type dbl\n",
       "\n",
       "| <!--/--> | ranking1 | ranking2 | ranking3 | ranking4 |\n",
       "|---|---|---|---|---|\n",
       "| Estimate | 2423.62996 | 2433.1772 | 2428.63689 | 2434.72284 |\n",
       "| Std. Error |   25.19218 |   24.9452 |   24.55653 |   24.25453 |\n",
       "\n",
       "\n",
       "\n",
       "\n"
      ],
      "text/plain": [
       "$LOT\n",
       "            ranking1  ranking2  ranking3  ranking4\n",
       "Estimate   48263.573 44814.350 49271.020 49267.689\n",
       "Std. Error  1432.223  1298.571  1486.012  1461.595\n",
       "\n",
       "$UNITSF\n",
       "             ranking1  ranking2   ranking3   ranking4\n",
       "Estimate   2423.62996 2433.1772 2428.63689 2434.72284\n",
       "Std. Error   25.19218   24.9452   24.55653   24.25453\n"
      ]
     },
     "metadata": {},
     "output_type": "display_data"
    }
   ],
   "source": [
    "# Number of data-driven subgroups.\n",
    "num.groups <- 4\n",
    "\n",
    "# Fold indices\n",
    "n.folds <- 5\n",
    "foldid <- (seq(n) %% n.folds) + 1\n",
    "\n",
    "fmla <- formula(paste(\" ~ 0 + \", paste0(\"bs(\", covariates, \", df=3)\", collapse=\" + \")))\n",
    "\n",
    "# Function model.matrix selects the covariates according to the formula\n",
    "# above and expands the covariates accordingly. In addition, if any column\n",
    "# is a factor, then this creates dummies (one-hot encoding) as well.\n",
    "XX <- model.matrix(fmla, data)\n",
    "Y <- data[, outcome]\n",
    "\n",
    "# Fit a lasso model.\n",
    "# Passing foldid argument so we know which observations are in each fold.\n",
    "lasso <- cv.glmnet(x=XX, y=Y, foldid = foldid, keep=TRUE)\n",
    "\n",
    "y.hat <- predict(lasso, newx = XX, s = \"lambda.min\")\n",
    "\n",
    "# Ranking observations.\n",
    "ranking <- lapply(seq(n.folds), function(i) {\n",
    "\n",
    "    # Extract cross-validated predictions for remaining fold.\n",
    "    y.hat.cross.val <- y.hat[foldid == i]\n",
    "\n",
    "    # Find the relevant subgroup break points\n",
    "    qs <- quantile(y.hat.cross.val, probs = seq(0, 1, length.out=num.groups + 1))\n",
    "\n",
    "    # Rank observations into subgroups depending on their predictions\n",
    "    cut(y.hat.cross.val, breaks = qs, labels = seq(num.groups))\n",
    "  })\n",
    "ranking <- factor(do.call(c, ranking))\n",
    "\n",
    "# Estimate expected covariate per subgroup\n",
    "avg.covariate.per.ranking <- mapply(function(x.col) {\n",
    "  fmla <- formula(paste0(x.col, \"~ 0 + ranking\"))\n",
    "  ols <- lm(fmla, data=transform(data, ranking=ranking))\n",
    "  t(lmtest::coeftest(ols, vcov=vcovHC(ols, \"HC2\"))[, 1:2])\n",
    "}, covariates, SIMPLIFY = FALSE)\n",
    "\n",
    "avg.covariate.per.ranking[1:2]"
   ]
  },
  {
   "cell_type": "markdown",
   "id": "5efdac99",
   "metadata": {},
   "source": [
    "The next heatmap visualizes the results. Note how observations ranked higher (i.e., were predicted to have higher prices) have more bedrooms and baths, were built more recently, have fewer cracks, and so on. The next snippet of code displays the average covariate per group along with each standard errors. The rows are ordered according to $Var(E[X_{ij} | G_i) / Var(X_i)$, where $G_i$ denotes the ranking. This is a rough normalized measure of how much variation is \"explained\" by group membership $G_i$. Brighter colors indicate larger values."
   ]
  },
  {
   "cell_type": "code",
   "execution_count": 23,
   "id": "5c9eefd7",
   "metadata": {},
   "outputs": [
    {
     "data": {
      "image/png": "[encoded data removed]",
      "text/plain": [
       "plot without title"
      ]
     },
     "metadata": {
      "image/png": {
       "height": 420,
       "width": 420
      }
     },
     "output_type": "display_data"
    }
   ],
   "source": [
    "df <- mapply(function(covariate) {\n",
    "      # Looping over covariate names\n",
    "      # Compute average covariate value per ranking (with correct standard errors)\n",
    "      fmla <- formula(paste0(covariate, \"~ 0 + ranking\"))\n",
    "      ols <- lm(fmla, data=transform(data, ranking=ranking))\n",
    "      ols.res <- coeftest(ols, vcov=vcovHC(ols, \"HC2\"))\n",
    "    \n",
    "      # Retrieve results\n",
    "      avg <- ols.res[,1]\n",
    "      stderr <- ols.res[,2]\n",
    "      \n",
    "      # Tally up results\n",
    "      data.frame(covariate, avg, stderr, ranking=paste0(\"G\", seq(num.groups)), \n",
    "                 # Used for coloring\n",
    "                 scaling=pnorm((avg - mean(avg))/sd(avg)), \n",
    "                 # We will order based on how much variation is 'explain' by the averages\n",
    "                 # relative to the total variation of the covariate in the data\n",
    "                 variation=sd(avg) / sd(data[,covariate]),\n",
    "                 # String to print in each cell in heatmap below\n",
    "                 # Note: depending on the scaling of your covariates, \n",
    "                 # you may have to tweak these formatting parameters a little.\n",
    "                 labels=paste0(formatC(avg),  \" (\", formatC(stderr, digits = 2, width = 2), \")\"))\n",
    "}, covariates, SIMPLIFY = FALSE)\n",
    "df <- do.call(rbind, df)\n",
    "\n",
    "# a small optional trick to ensure heatmap will be in decreasing order of 'variation'\n",
    "df$covariate <- reorder(df$covariate, order(df$variation))\n",
    "df <- df[order(df$variation, decreasing=TRUE),]\n",
    "\n",
    "# plot heatmap\n",
    "ggplot(df[1:(9*num.groups),]) +  # showing on the first few results (ordered by 'variation')\n",
    "    aes(ranking, covariate) +\n",
    "    geom_tile(aes(fill = scaling)) + \n",
    "    geom_text(aes(label = labels), size=3) +  # 'size' controls the fontsize inside cell\n",
    "    scale_fill_gradient(low = \"#E1BE6A\", high = \"#40B0A6\") +\n",
    "    ggtitle(paste0(\"Average covariate values within group (based on prediction ranking)\")) +\n",
    "    theme_minimal() + \n",
    "    ylab(\"\") + xlab(\"\") +\n",
    "    theme(plot.title = element_text(size = 10, face = \"bold\"),\n",
    "          legend.position=\"bottom\")"
   ]
  },
  {
   "cell_type": "markdown",
   "id": "5426f00f",
   "metadata": {},
   "source": [
    "As we just saw above, houses that have, e.g., been built more recently (`BUILT`), have more baths (`BATHS`) are associated with larger price predictions.\n",
    "\n",
    "This sort of interpretation exercise did not rely on reading any coefficients, and in fact it could also be done using any other flexible method, including decisions trees and forests.\n",
    "\n",
    "\n",
    "###  Decision trees\n",
    "\n",
    "This next class of algorithms divides the covariate space into \"regions\" and estimates a constant prediction within each region.\n",
    "\n",
    "To estimate a decision tree, we following a recursive partition algorithm. At each stage, we select one variable $j$ and one split point\n",
    "$s$, and divide the observations into “left” and “right” subsets, depending on whether $X_{ij} \\leq s$ or $X_{ij} > s$. For regression problems, the variable and split points are often selected so that the sum of the variances of the outcome variable in each “child” subset is smallest. For classification problems, we split to separate the classes. Then, for each child, we separately repeat the process of finding variables and split points. This continues until a minimum subset size is reached, or improvement falls below some threshold.\n",
    "\n",
    "At prediction time, to find the predictions for some point $x$, we just follow the tree we just built, going left or right according to the selected variables and split points, until we reach a terminal node. Then, for regression problems, the predicted value at some point $x$ is the average outcome of the observations in the same partition as the point $x$. For classification problems, we output the majority class in the node.\n",
    "\n",
    "Let’s estimate a decision tree using the `R` package rpart; see [this tutorial](https://cran.r-project.org/web/packages/rpart/vignettes/longintro.pdf) for more information about it."
   ]
  },
  {
   "cell_type": "code",
   "execution_count": 24,
   "id": "516a8498",
   "metadata": {},
   "outputs": [],
   "source": [
    "# Fit tree without pruning first\n",
    "fmla <- formula(paste(outcome, \"~\", paste(covariates, collapse=\" + \")))\n",
    "tree <- rpart(fmla, data=data, cp=0, method=\"anova\")  # use method=\"class\" for classification"
   ]
  },
  {
   "cell_type": "markdown",
   "id": "34919f9d",
   "metadata": {},
   "source": [
    "At this point, we have not constrained the complexity of the tree in any way, so it's likely too deep and probably overfits. Here’s a plot of what we have so far (without bothering to label the splits to avoid clutter)."
   ]
  },
  {
   "cell_type": "code",
   "execution_count": 25,
   "id": "a273d401",
   "metadata": {},
   "outputs": [
    {
     "data": {
      "image/png": "[encoded data removed]",
      "text/plain": [
       "plot without title"
      ]
     },
     "metadata": {
      "image/png": {
       "height": 420,
       "width": 420
      }
     },
     "output_type": "display_data"
    }
   ],
   "source": [
    "plot(tree, uniform=TRUE)"
   ]
  },
  {
   "cell_type": "markdown",
   "id": "4def950a",
   "metadata": {},
   "source": [
    "\n",
    "To reduce the complexity of the tree, we **prune** the tree: we collapse its leaves, permitting bias to increase but forcing variance to decrease until the desired trade-off is achieved. In `rpart`, this is done by considering a modified loss function that takes into account the number of terminal nodes (i.e., the number of regions in which the original data was partitioned). Somewhat heuristically, if we denote tree predictions by $T(x)$ and its number of terminal nodes by  $|T|$, the modified regression problem can be written as:\n",
    "\n",
    "\n",
    "  \n",
    "\\begin{equation}\\label{eq:pruned-tree}\\tag{2.4}\n",
    "  \\widehat{T} = \\arg\\min_{T} \\sum_{i=1}^m \\left( T(X_i) - Y_i \\right)^2 + c_p |T|\n",
    "\\end{equation}\n",
    "\n",
    "\n",
    "The complexity of the tree is controlled by the scalar parameter $c_p$, denoted as `ccp_alpha` in `sklearn.tree.DecisionTreeRegressor`. For each value of $c_p$, we find the subtree that solves \\eqref{eq:pruned-tree}. Large values of $c_p$ lead to aggressively pruned trees, which have more bias and less variance. Small values of $c_p$ allow for deeper trees whose predictions can vary more wildly."
   ]
  },
  {
   "cell_type": "code",
   "execution_count": 26,
   "id": "27a5d746",
   "metadata": {},
   "outputs": [
    {
     "data": {
      "image/png": "[encoded data removed]",
      "text/plain": [
       "plot without title"
      ]
     },
     "metadata": {
      "image/png": {
       "height": 420,
       "width": 420
      }
     },
     "output_type": "display_data"
    }
   ],
   "source": [
    "plotcp(tree)"
   ]
  },
  {
   "cell_type": "markdown",
   "id": "058e502f",
   "metadata": {},
   "source": [
    "The following code retrieves the optimal parameter and prunes the tree. Here, instead of choosing the parameter that minimizes the mean-squared-error, we're following another common heuristic: we will choose the most regularized model whose error is within one standard error of the minimum error."
   ]
  },
  {
   "cell_type": "code",
   "execution_count": 27,
   "id": "2a628350",
   "metadata": {},
   "outputs": [],
   "source": [
    "# Retrieves the optimal parameter\n",
    "cp.min <- which.min(tree$cptable[,\"xerror\"]) # minimum error\n",
    "cp.idx <- which(tree$cptable[,\"xerror\"] - tree$cptable[cp.min,\"xerror\"] < tree$cptable[,\"xstd\"])[1]  # at most one std. error from minimum error\n",
    "cp.best <- tree$cptable[cp.idx,\"CP\"]\n",
    "\n",
    "# Prune the tree\n",
    "pruned.tree <- prune(tree, cp=cp.best)"
   ]
  },
  {
   "cell_type": "markdown",
   "id": "1e6a35a3",
   "metadata": {},
   "source": [
    "Plotting the pruned tree. See also the package [rpart.plot](http://www.milbo.org/rpart-plot/prp.pdf) for more advanced plotting capabilities."
   ]
  },
  {
   "cell_type": "code",
   "execution_count": 28,
   "id": "ac18f810",
   "metadata": {},
   "outputs": [
    {
     "data": {
      "image/png": "[encoded data removed]",
      "text/plain": [
       "plot without title"
      ]
     },
     "metadata": {
      "image/png": {
       "height": 420,
       "width": 420
      }
     },
     "output_type": "display_data"
    }
   ],
   "source": [
    "plot(pruned.tree, uniform=TRUE, margin = .05)\n",
    "text(pruned.tree, cex=.7)"
   ]
  },
  {
   "cell_type": "markdown",
   "id": "400f2c51",
   "metadata": {},
   "source": [
    "Finally, here’s how to extract predictions and mse estimates from the pruned tree."
   ]
  },
  {
   "cell_type": "code",
   "execution_count": 29,
   "id": "9054647f",
   "metadata": {},
   "outputs": [
    {
     "name": "stdout",
     "output_type": "stream",
     "text": [
      "[1] \"Tree MSE estimate (cross-validated): 0.655394075884523\"\n"
     ]
    }
   ],
   "source": [
    "# Retrieve predictions from pruned tree\n",
    "y.hat <- predict(pruned.tree)\n",
    "\n",
    "# Compute mse for pruned tree (using cross-validated predictions)\n",
    "mse.tree <- mean((xpred.rpart(tree)[,cp.idx] - data[,outcome])^2, na.rm=TRUE)\n",
    "print(paste(\"Tree MSE estimate (cross-validated):\", mse.tree))"
   ]
  },
  {
   "cell_type": "markdown",
   "id": "da501ffe",
   "metadata": {},
   "source": [
    "It’s often said that trees are \"interpretable.\" To some extent, that’s true – we can look at the tree and clearly visualize the mapping from inputs to prediction. This can be important in settings in which conveying how one got to a prediction is important. For example, if a decision tree were to be used for credit scoring, it would be easy to explain to a client how their credit was scored.\n",
    "\n",
    "Beyond that, however, there are several reasons for not interpreting the obtained decision tree further. First, even though a tree may have used a particular variable for a split, that does not mean that it’s indeed an important variable: if two covariates are highly correlated, the tree may split on one variable but not the other, and there’s no guarantee which variables are relevant in the underlying data-generating process.\n",
    "\n",
    "Similar to what we did for Lasso above, we can estimate the average value of each covariate per leaf. Although results are noisier here because there are many leaves, we see somewhat similar trends in that houses with higher predictions are also correlated with more bedrooms, bathrooms and room sizes."
   ]
  },
  {
   "cell_type": "code",
   "execution_count": 30,
   "id": "712796e9",
   "metadata": {},
   "outputs": [
    {
     "name": "stdout",
     "output_type": "stream",
     "text": [
      "$LOT\n",
      "               leaf1      leaf2    leaf3     leaf4     leaf5     leaf6\n",
      "Estimate   69442.743 134663.235 37833.61 36568.902 46578.990 55894.077\n",
      "Std. Error  6146.155   9742.853  1265.77  1376.299  1335.717  2043.282\n",
      "               leaf7\n",
      "Estimate   61681.880\n",
      "Std. Error  2243.882\n",
      "\n",
      "$UNITSF\n",
      "                leaf1      leaf2       leaf3      leaf4      leaf5      leaf6\n",
      "Estimate   1360.79394 1850.45404 1557.508744 1370.26146 2085.77359 3781.07702\n",
      "Std. Error   46.56963   66.18601    6.655404    3.21795    2.78384   43.78579\n",
      "                leaf7\n",
      "Estimate   4912.32614\n",
      "Std. Error   57.25873\n",
      "\n"
     ]
    }
   ],
   "source": [
    "y.hat <- predict(pruned.tree)\n",
    "\n",
    "# Number of leaves should equal the number of distinct prediction values.\n",
    "# This should be okay for most applications, but if an exact answer is needed use\n",
    "# predict.rpart.leaves from package treeCluster\n",
    "num.leaves <- length(unique(y.hat))\n",
    "\n",
    "# Leaf membership, ordered by increasing prediction value\n",
    "leaf <- factor(y.hat, ordered = TRUE, labels = seq(num.leaves))\n",
    "\n",
    "# Looping over covariates\n",
    "avg.covariate.per.leaf <- mapply(function(covariate) {\n",
    "  \n",
    "  # Coefficients on linear regression of covariate on leaf \n",
    "  #  are the average covariate value in each leaf.\n",
    "  # covariate ~ leaf.1 + ... + leaf.L \n",
    "  fmla <- formula(paste0(covariate, \"~ 0 + leaf\"))\n",
    "  ols <- lm(fmla, data=transform(data, leaf=leaf))\n",
    "  \n",
    "  # Heteroskedasticity-robust standard errors\n",
    "  t(coeftest(ols, vcov=vcovHC(ols, \"HC2\"))[,1:2])\n",
    "}, covariates, SIMPLIFY = FALSE)\n",
    "\n",
    "print(avg.covariate.per.leaf[1:2])  # Showing only first few"
   ]
  },
  {
   "cell_type": "markdown",
   "id": "52836e0f",
   "metadata": {},
   "source": [
    "Finally, as we did in the linear model case, we can use the same code for an annotated version of the same information. Again, we ordered the rows in decreasing order based on an estimate of the relative variance \"explained\" by leaf membership: $Var(E[X_i|L_i]) / Var(X_i)$, where $L_i$ represents the leaf."
   ]
  },
  {
   "cell_type": "code",
   "execution_count": 31,
   "id": "3d3d0042",
   "metadata": {},
   "outputs": [
    {
     "data": {
      "image/png": "[encoded data removed]",
      "text/plain": [
       "plot without title"
      ]
     },
     "metadata": {
      "image/png": {
       "height": 420,
       "width": 420
      }
     },
     "output_type": "display_data"
    }
   ],
   "source": [
    "df <- mapply(function(covariate) {\n",
    "      # Looping over covariate names\n",
    "      # Compute average covariate value per ranking (with correct standard errors)\n",
    "      fmla <- formula(paste0(covariate, \"~ 0 + leaf\"))\n",
    "      ols <- lm(fmla, data=transform(data, leaf=leaf))\n",
    "      ols.res <- coeftest(ols, vcov=vcovHC(ols, \"HC2\"))\n",
    "    \n",
    "      # Retrieve results\n",
    "      avg <- ols.res[,1]\n",
    "      stderr <- ols.res[,2]\n",
    "      \n",
    "      # Tally up results\n",
    "      data.frame(covariate, avg, stderr, \n",
    "                 ranking=factor(seq(num.leaves)), \n",
    "                 # Used for coloring\n",
    "                 scaling=pnorm((avg - mean(avg))/sd(avg)), \n",
    "                 # We will order based on how much variation is 'explain' by the averages\n",
    "                 # relative to the total variation of the covariate in the data\n",
    "                 variation=sd(avg) / sd(data[,covariate]),\n",
    "                 # String to print in each cell in heatmap below\n",
    "                 # Note: depending on the scaling of your covariates, \n",
    "                 # you may have to tweak these  formatting parameters a little.\n",
    "                 labels=paste0(formatC(avg),\"\\n(\", formatC(stderr, digits = 2, width = 2), \")\"))\n",
    "}, covariates, SIMPLIFY = FALSE)\n",
    "df <- do.call(rbind, df)\n",
    "\n",
    "# a small optional trick to ensure heatmap will be in decreasing order of 'variation'\n",
    "df$covariate <- reorder(df$covariate, order(df$variation))\n",
    "df <- df[order(df$variation, decreasing=TRUE),]\n",
    "\n",
    "# plot heatmap\n",
    "ggplot(df[1:(8*num.leaves),]) +  # showing on the first few results (ordered by 'variation')\n",
    "    aes(ranking, covariate) +\n",
    "    geom_tile(aes(fill = scaling)) + \n",
    "    geom_text(aes(label = labels), size=2.5) +  # 'size' controls the fontsize inside cell\n",
    "    scale_fill_gradient(low = \"#E1BE6A\", high = \"#40B0A6\") +\n",
    "    ggtitle(paste0(\"Average covariate values within leaf\")) +\n",
    "    theme_minimal() + \n",
    "    ylab(\"\") + xlab(\"Leaf (ordered by prediction, low to high)\") +\n",
    "    labs(fill=\"Normalized\\nvariation\") +\n",
    "    theme(plot.title = element_text(size = 12, face = \"bold\", hjust = .5),\n",
    "          axis.title.x = element_text(size=9),\n",
    "          legend.title = element_text(hjust = .5, size=9))"
   ]
  },
  {
   "cell_type": "markdown",
   "id": "94a520eb",
   "metadata": {},
   "source": [
    "\n",
    "### Forests\n",
    "\n",
    "Forests are a type of **ensemble** estimators: they aggregate information about many decision trees to compute a new estimate that typically has much smaller variance.\n",
    "\n",
    "At a high level, the process of fitting a (regression) forest consists of fitting many decision trees, each on a different subsample of the data. The forest prediction for a particular point $x$ is the average of all tree predictions for that point.\n",
    "\n",
    "One interesting aspect of forests and many other ensemble methods is that cross-validation can be built into the algorithm itself. Since each tree only uses a subset of the data, the remaining subset is effectively a test set for that tree. We call these observations **out-of-bag** (there were not in the “bag” of training observations). They can be used to evaluate the performance of that tree, and the average of out-of-bag evaluations is evidence of the performance of the forest itself.\n",
    "\n",
    "For the example below, we’ll use the regression_forest function of the `R` package `grf`. The particular forest implementation in `grf` has interesting properties that are absent from most other packages. For example, trees are build using a certain sample-splitting scheme that ensures that predictions are approximately unbiased and normally distributed for large samples, which in turn allows us to compute valid confidence intervals around those predictions. We’ll have more to say about the importance of these features when we talk about causal estimates in future chapters. See also the grf website for more information."
   ]
  },
  {
   "cell_type": "code",
   "execution_count": 32,
   "id": "be7110b7",
   "metadata": {},
   "outputs": [
    {
     "name": "stdout",
     "output_type": "stream",
     "text": [
      "[1] \"Forest MSE (out-of-bag): 0.589442024432908\"\n"
     ]
    }
   ],
   "source": [
    "X <- data[,covariates]\n",
    "Y <- data[,outcome]\n",
    "\n",
    "# Fitting the forest\n",
    "# We'll use few trees for speed here. \n",
    "# In a practical application please use a higher number of trees.\n",
    "forest <- regression_forest(X=X, Y=Y, num.trees=200)  \n",
    "\n",
    "# There usually isn't a lot of benefit in tuning forest parameters, but the next code does so automatically (expect longer training times)\n",
    "# forest <- regression_forest(X=X, Y=Y, tune.parameters=\"all\")\n",
    "\n",
    "# Retrieving forest predictions\n",
    "y.hat <- predict(forest)$predictions\n",
    "\n",
    "# Evaluation (out-of-bag mse)\n",
    "mse.oob <- mean(predict(forest)$debiased.error)\n",
    "print(paste(\"Forest MSE (out-of-bag):\", mse.oob))"
   ]
  },
  {
   "cell_type": "markdown",
   "id": "8b9edca7",
   "metadata": {},
   "source": [
    "The function `variable_importance` computes a simple weighted sum of how many times each feature was split on at each depth across the trees."
   ]
  },
  {
   "cell_type": "code",
   "execution_count": 33,
   "id": "08b0df86",
   "metadata": {},
   "outputs": [
    {
     "data": {
      "text/html": [
       "<style>\n",
       ".dl-inline {width: auto; margin:0; padding: 0}\n",
       ".dl-inline>dt, .dl-inline>dd {float: none; width: auto; display: inline-block}\n",
       ".dl-inline>dt::after {content: \":\\0020\"; padding-right: .5ex}\n",
       ".dl-inline>dt:not(:first-of-type) {padding-left: .5ex}\n",
       "</style><dl class=dl-inline><dt>UNITSF</dt><dd>0.395208438200705</dd><dt>NUNIT2</dt><dd>0.174885553470919</dd><dt>BATHS</dt><dd>0.167101816684208</dd><dt>DISH</dt><dd>0.10471816226605</dd><dt>BEDRMS</dt><dd>0.0369369880565597</dd><dt>MOBILTYP</dt><dd>0.0217545417105203</dd><dt>HALFB</dt><dd>0.0198953004164188</dd><dt>DINING</dt><dd>0.0123540017388917</dd><dt>FAMRM</dt><dd>0.0119941426806388</dd><dt>OARSYS</dt><dd>0.00938214432800989</dd></dl>\n"
      ],
      "text/latex": [
       "\\begin{description*}\n",
       "\\item[UNITSF] 0.395208438200705\n",
       "\\item[NUNIT2] 0.174885553470919\n",
       "\\item[BATHS] 0.167101816684208\n",
       "\\item[DISH] 0.10471816226605\n",
       "\\item[BEDRMS] 0.0369369880565597\n",
       "\\item[MOBILTYP] 0.0217545417105203\n",
       "\\item[HALFB] 0.0198953004164188\n",
       "\\item[DINING] 0.0123540017388917\n",
       "\\item[FAMRM] 0.0119941426806388\n",
       "\\item[OARSYS] 0.00938214432800989\n",
       "\\end{description*}\n"
      ],
      "text/markdown": [
       "UNITSF\n",
       ":   0.395208438200705NUNIT2\n",
       ":   0.174885553470919BATHS\n",
       ":   0.167101816684208DISH\n",
       ":   0.10471816226605BEDRMS\n",
       ":   0.0369369880565597MOBILTYP\n",
       ":   0.0217545417105203HALFB\n",
       ":   0.0198953004164188DINING\n",
       ":   0.0123540017388917FAMRM\n",
       ":   0.0119941426806388OARSYS\n",
       ":   0.00938214432800989\n",
       "\n"
      ],
      "text/plain": [
       "     UNITSF      NUNIT2       BATHS        DISH      BEDRMS    MOBILTYP \n",
       "0.395208438 0.174885553 0.167101817 0.104718162 0.036936988 0.021754542 \n",
       "      HALFB      DINING       FAMRM      OARSYS \n",
       "0.019895300 0.012354002 0.011994143 0.009382144 "
      ]
     },
     "metadata": {},
     "output_type": "display_data"
    }
   ],
   "source": [
    "var.imp <- variable_importance(forest)\n",
    "names(var.imp) <- covariates\n",
    "sort(var.imp, decreasing = TRUE)[1:10] # showing only first few"
   ]
  },
  {
   "cell_type": "markdown",
   "id": "f5f5a074",
   "metadata": {},
   "source": [
    "All the caveats about interpretation that we mentioned above apply in a similar to forest output."
   ]
  },
  {
   "cell_type": "markdown",
   "id": "16a7037c",
   "metadata": {},
   "source": [
    "##  Further reading\n",
    "\n",
    "In this tutorial we briefly reviewed some key concepts that we recur later in this tutorial. For readers who are entirely new to this field or interested in learning about it more depth, the first few chapters of the following textbook are an acccessible introduction:\n",
    "\n",
    "James, G., Witten, D., Hastie, T., & Tibshirani, R. (2013). An introduction to statistical learning (Vol. 112, p. 18). New York: springer. Available for free at [the authors’ website](https://www.statlearning.com/).\n",
    "\n",
    "Some of the discussion in the Lasso section in particular was drawn from [Mullainathan and Spiess (JEP, 2017)](https://www.aeaweb.org/articles?id=10.1257/jep.31.2.87), which contains a good discussion of the interpretability issues discussed here.\n",
    "\n",
    "There has been a good deal of research on inference in high-dimensional models, Although we won’t be covering in depth it in this tutorial, we refer readers to [Belloni, Chernozhukov and Hansen (JEP, 2014)](http://www.mit.edu/~vchern/papers/JEP.pdf). Also check out the related `R` package [`hdm`](https://cran.r-project.org/web/packages/hdm/hdm.pdf), developed by the same authors, along with Philipp Bach and Martin Spindler.\n",
    "\n"
   ]
  }
 ],
 "metadata": {
  "kernelspec": {
   "display_name": "R",
   "language": "R",
   "name": "ir"
  },
  "language_info": {
   "codemirror_mode": "r",
   "file_extension": ".r",
   "mimetype": "text/x-r-source",
   "name": "R",
   "pygments_lexer": "r",
   "version": "4.2.0"
  }
 },
 "nbformat": 4,
 "nbformat_minor": 5
}
